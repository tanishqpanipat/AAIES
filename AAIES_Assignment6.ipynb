{
  "nbformat": 4,
  "nbformat_minor": 0,
  "metadata": {
    "colab": {
      "provenance": [],
      "authorship_tag": "ABX9TyOgv4kTc6BHAlwsUlnm37Vh",
      "include_colab_link": true
    },
    "kernelspec": {
      "name": "python3",
      "display_name": "Python 3"
    },
    "language_info": {
      "name": "python"
    }
  },
  "cells": [
    {
      "cell_type": "markdown",
      "metadata": {
        "id": "view-in-github",
        "colab_type": "text"
      },
      "source": [
        "<a href=\"https://colab.research.google.com/github/tanishqpanipat/AAIES/blob/main/AAIES_Assignment6.ipynb\" target=\"_parent\"><img src=\"https://colab.research.google.com/assets/colab-badge.svg\" alt=\"Open In Colab\"/></a>"
      ]
    },
    {
      "cell_type": "markdown",
      "source": [
        "**The Problem Statement:**\n",
        "\n",
        "Form triples based on the following paragraph:\n",
        "\n",
        "\"Alice is enrolled in Computer Science 101. Bob is enrolled in Physics 201. Charlie is enrolled in Mathematics 301. Computer Science 101 is taught by Professor Smith. Physics 201 is taught by Professor Johnson. Mathematics 301 is taught by Professor Brown.\"\n",
        "\n",
        "Use the above to paragraph extract triples and build a complete graph representing the relationships between students, courses, and instructors in a university setting"
      ],
      "metadata": {
        "id": "NK0z4oJDL5XN"
      }
    },
    {
      "cell_type": "markdown",
      "source": [
        "**The Code**"
      ],
      "metadata": {
        "id": "ZcCzL9BZMAS9"
      }
    },
    {
      "cell_type": "markdown",
      "source": [
        "Imports"
      ],
      "metadata": {
        "id": "UnD0AOr9MFMc"
      }
    },
    {
      "cell_type": "code",
      "source": [
        "!pip install pyvis"
      ],
      "metadata": {
        "colab": {
          "base_uri": "https://localhost:8080/"
        },
        "id": "WEBVIex0MGRt",
        "outputId": "10e0678c-3080-4087-db8d-740cd81848e5"
      },
      "execution_count": 1,
      "outputs": [
        {
          "output_type": "stream",
          "name": "stdout",
          "text": [
            "Collecting pyvis\n",
            "  Downloading pyvis-0.3.2-py3-none-any.whl (756 kB)\n",
            "\u001b[2K     \u001b[90m━━━━━━━━━━━━━━━━━━━━━━━━━━━━━━━━━━━━━━━\u001b[0m \u001b[32m756.0/756.0 kB\u001b[0m \u001b[31m9.7 MB/s\u001b[0m eta \u001b[36m0:00:00\u001b[0m\n",
            "\u001b[?25hRequirement already satisfied: ipython>=5.3.0 in /usr/local/lib/python3.10/dist-packages (from pyvis) (7.34.0)\n",
            "Requirement already satisfied: jinja2>=2.9.6 in /usr/local/lib/python3.10/dist-packages (from pyvis) (3.1.2)\n",
            "Requirement already satisfied: jsonpickle>=1.4.1 in /usr/local/lib/python3.10/dist-packages (from pyvis) (3.0.2)\n",
            "Requirement already satisfied: networkx>=1.11 in /usr/local/lib/python3.10/dist-packages (from pyvis) (3.1)\n",
            "Requirement already satisfied: setuptools>=18.5 in /usr/local/lib/python3.10/dist-packages (from ipython>=5.3.0->pyvis) (67.7.2)\n",
            "Collecting jedi>=0.16 (from ipython>=5.3.0->pyvis)\n",
            "  Downloading jedi-0.19.0-py2.py3-none-any.whl (1.6 MB)\n",
            "\u001b[2K     \u001b[90m━━━━━━━━━━━━━━━━━━━━━━━━━━━━━━━━━━━━━━━━\u001b[0m \u001b[32m1.6/1.6 MB\u001b[0m \u001b[31m54.6 MB/s\u001b[0m eta \u001b[36m0:00:00\u001b[0m\n",
            "\u001b[?25hRequirement already satisfied: decorator in /usr/local/lib/python3.10/dist-packages (from ipython>=5.3.0->pyvis) (4.4.2)\n",
            "Requirement already satisfied: pickleshare in /usr/local/lib/python3.10/dist-packages (from ipython>=5.3.0->pyvis) (0.7.5)\n",
            "Requirement already satisfied: traitlets>=4.2 in /usr/local/lib/python3.10/dist-packages (from ipython>=5.3.0->pyvis) (5.7.1)\n",
            "Requirement already satisfied: prompt-toolkit!=3.0.0,!=3.0.1,<3.1.0,>=2.0.0 in /usr/local/lib/python3.10/dist-packages (from ipython>=5.3.0->pyvis) (3.0.39)\n",
            "Requirement already satisfied: pygments in /usr/local/lib/python3.10/dist-packages (from ipython>=5.3.0->pyvis) (2.16.1)\n",
            "Requirement already satisfied: backcall in /usr/local/lib/python3.10/dist-packages (from ipython>=5.3.0->pyvis) (0.2.0)\n",
            "Requirement already satisfied: matplotlib-inline in /usr/local/lib/python3.10/dist-packages (from ipython>=5.3.0->pyvis) (0.1.6)\n",
            "Requirement already satisfied: pexpect>4.3 in /usr/local/lib/python3.10/dist-packages (from ipython>=5.3.0->pyvis) (4.8.0)\n",
            "Requirement already satisfied: MarkupSafe>=2.0 in /usr/local/lib/python3.10/dist-packages (from jinja2>=2.9.6->pyvis) (2.1.3)\n",
            "Requirement already satisfied: parso<0.9.0,>=0.8.3 in /usr/local/lib/python3.10/dist-packages (from jedi>=0.16->ipython>=5.3.0->pyvis) (0.8.3)\n",
            "Requirement already satisfied: ptyprocess>=0.5 in /usr/local/lib/python3.10/dist-packages (from pexpect>4.3->ipython>=5.3.0->pyvis) (0.7.0)\n",
            "Requirement already satisfied: wcwidth in /usr/local/lib/python3.10/dist-packages (from prompt-toolkit!=3.0.0,!=3.0.1,<3.1.0,>=2.0.0->ipython>=5.3.0->pyvis) (0.2.6)\n",
            "Installing collected packages: jedi, pyvis\n",
            "Successfully installed jedi-0.19.0 pyvis-0.3.2\n"
          ]
        }
      ]
    },
    {
      "cell_type": "code",
      "source": [
        "### NLTK libraries for triples extraction\n",
        "from nltk.tokenize import word_tokenize\n",
        "from nltk import pos_tag\n",
        "\n",
        "### To plot a networkx graph in pyvis\n",
        "import networkx as nx\n",
        "from pyvis.network import Network\n",
        "from IPython.display import HTML\n",
        "from IPython.display import display,IFrame"
      ],
      "metadata": {
        "id": "C0V14QGaMOsV"
      },
      "execution_count": 2,
      "outputs": []
    },
    {
      "cell_type": "code",
      "source": [
        "import nltk\n",
        "nltk.download('punkt')\n",
        "nltk.download('averaged_perceptron_tagger')"
      ],
      "metadata": {
        "colab": {
          "base_uri": "https://localhost:8080/"
        },
        "id": "oxa9IimGMRrH",
        "outputId": "b2dde89a-2799-4bb8-944d-0e9a2c9184d7"
      },
      "execution_count": 3,
      "outputs": [
        {
          "output_type": "stream",
          "name": "stderr",
          "text": [
            "[nltk_data] Downloading package punkt to /root/nltk_data...\n",
            "[nltk_data]   Unzipping tokenizers/punkt.zip.\n",
            "[nltk_data] Downloading package averaged_perceptron_tagger to\n",
            "[nltk_data]     /root/nltk_data...\n",
            "[nltk_data]   Unzipping taggers/averaged_perceptron_tagger.zip.\n"
          ]
        },
        {
          "output_type": "execute_result",
          "data": {
            "text/plain": [
              "True"
            ]
          },
          "metadata": {},
          "execution_count": 3
        }
      ]
    },
    {
      "cell_type": "markdown",
      "source": [
        "**Definition of Triples**"
      ],
      "metadata": {
        "id": "40vli2vEMZU_"
      }
    },
    {
      "cell_type": "code",
      "source": [
        "# Manually define the triples from the paragraph in the subject predicate and object format as a list of tuples\n",
        "#triples = []\n",
        "triples = [\n",
        "    ('Alice', 'enrolled_in', 'CS 101'),\n",
        "    ('Bob', 'enrolled_in', 'Physics 201'),\n",
        "    ('Charlie', 'enrolled_in', 'Mathematics 301'),\n",
        "    ('CS 101', 'taught_by', 'Professor Smith'),\n",
        "    ('Physics 201', 'taught_by', 'Professor Johnson'),\n",
        "    ('Mathematics 301', 'taught_by', 'Professor Brown')\n",
        "]"
      ],
      "metadata": {
        "id": "Vd55Jav6Mcgo"
      },
      "execution_count": 4,
      "outputs": []
    },
    {
      "cell_type": "markdown",
      "source": [
        "**Graph building using NetworkX**"
      ],
      "metadata": {
        "id": "eTKVQ6gPMgdS"
      }
    },
    {
      "cell_type": "code",
      "source": [
        "# # Function to build a NetworkX graph from extracted triples\n",
        "# def build_networkx_graph(triples):\n",
        "#     \"\"\"\n",
        "#     Builds a NetworkX graph from a list of subject-predicate-object triples.\n",
        "\n",
        "#     Args:\n",
        "#         triples (list): A list of extracted triples, each represented as a tuple (subject, predicate, object).\n",
        "\n",
        "#     Returns:\n",
        "#         networkx.Graph: A NetworkX graph representing relationships between students, courses, and instructors.\n",
        "#     \"\"\"\n",
        "#     # TO-DO: Implement the code to build a NetworkX graph from the triples\n",
        "#     # Initialize an empty NetworkX graph\n",
        "\n",
        "#     # Iterate through the triples\n",
        "\n",
        "#     # Add nodes with node types (student, course, instructor)\n",
        "\n",
        "#     # Add edges with relationship types (enrolled in, taught by)\n",
        "\n",
        "#     # Return the NetworkX graph\n",
        "#     return G\n",
        "\n",
        "# Function to build a NetworkX graph from extracted triples\n",
        "def build_networkx_graph(triples):\n",
        "    \"\"\"\n",
        "    Builds a NetworkX graph from a list of subject-predicate-object triples.\n",
        "\n",
        "    Args:\n",
        "        triples (list): A list of extracted triples, each represented as a tuple (subject, predicate, object).\n",
        "\n",
        "    Returns:\n",
        "        networkx.Graph: A NetworkX graph representing relationships between students, courses, and instructors.\n",
        "    \"\"\"\n",
        "    # TO-DO: Implement the code to build a NetworkX graph from the triples\n",
        "    # Initialize an empty NetworkX graph\n",
        "\n",
        "    # Iterate through the triples\n",
        "\n",
        "    # Add nodes with node types (student, course, instructor)\n",
        "\n",
        "    # Add edges with relationship types (enrolled in, taught by)\n",
        "\n",
        "    # Return the NetworkX graph\n",
        "    G = nx.Graph()\n",
        "\n",
        "    # Iterate through the triples\n",
        "    for triple in triples:\n",
        "        subject, predicate, obj = triple\n",
        "\n",
        "        # Add nodes with node types (student, course, instructor)\n",
        "        if subject not in G:\n",
        "            G.add_node(subject, node_type='student')\n",
        "        if obj not in G:\n",
        "            if predicate == 'enrolled_in':\n",
        "                G.add_node(obj, node_type='course')\n",
        "            elif predicate == 'taught_by':\n",
        "                G.add_node(obj, node_type='instructor')\n",
        "\n",
        "        # Add edges with relationship types (enrolled in, taught by)\n",
        "        if predicate == 'enrolled_in':\n",
        "            G.add_edge(subject, obj, relationship_type='enrolled in')\n",
        "        elif predicate == 'taught_by':\n",
        "            G.add_edge(obj, subject, relationship_type='taught by')\n",
        "\n",
        "    # Return the NetworkX graph\n",
        "    return G"
      ],
      "metadata": {
        "id": "StpTcufUMkZS"
      },
      "execution_count": 5,
      "outputs": []
    },
    {
      "cell_type": "markdown",
      "source": [
        "**Graph Visualize using Matplotlib**"
      ],
      "metadata": {
        "id": "eyb1FRYXMu1J"
      }
    },
    {
      "cell_type": "code",
      "source": [
        "# # Function to save the graph as \"university_relationship_graph.html\" using PyVis\n",
        "# def save_graph_pyvis(graph):\n",
        "#     \"\"\"\n",
        "#     Visualizes a NetworkX graph using PyVis and saves it as an HTML file.\n",
        "\n",
        "#     Args:\n",
        "#         graph (networkx.Graph): The NetworkX graph to be visualized.\n",
        "\n",
        "#     Returns:\n",
        "#         None\n",
        "#     \"\"\"\n",
        "#     # TO-DO: Implement the code to visualize the graph using PyVis\n",
        "#     # Create an empty PyVis Network object\n",
        "\n",
        "#     # Add nodes and edges to the PyVis graph\n",
        "\n",
        "#     # Save the graph as an HTML file\n",
        "#     pass  # Remove this 'pass' statement when implementing the code\n",
        "\n",
        "\n",
        "\n",
        "\n",
        "# Function to save the graph as \"university_relationship_graph.html\" using PyVis\n",
        "def save_graph_pyvis(graph):\n",
        "    \"\"\"\n",
        "    Visualizes a NetworkX graph using PyVis and saves it as an HTML file.\n",
        "\n",
        "    Args:\n",
        "        graph (networkx.Graph): The NetworkX graph to be visualized.\n",
        "\n",
        "    Returns:\n",
        "        None\n",
        "    \"\"\"\n",
        "    # TO-DO: Implement the code to visualize the graph using PyVis\n",
        "    # Create an empty PyVis Network object\n",
        "\n",
        "    # Add nodes and edges to the PyVis graph\n",
        "\n",
        "    # Save the graph as an HTML file\n",
        "    pyvis_graph = Network()\n",
        "\n",
        "    # Add nodes and edges to the PyVis graph\n",
        "    for node in graph.nodes():\n",
        "        node_type = graph.nodes[node]['node_type']\n",
        "        pyvis_graph.add_node(node, label=node, title=node_type, color='green' if node_type == 'student' else 'blue' if node_type == 'course' else 'red')\n",
        "\n",
        "    for edge in graph.edges():\n",
        "        relationship_type = graph.edges[edge]['relationship_type']\n",
        "        pyvis_graph.add_edge(edge[0], edge[1], label=relationship_type)\n",
        "\n",
        "    # Save the graph as an HTML file\n",
        "\n",
        "    pyvis_graph.write_html('university_relationship_graph.html')"
      ],
      "metadata": {
        "id": "El0wTgbfMxKJ"
      },
      "execution_count": 6,
      "outputs": []
    },
    {
      "cell_type": "markdown",
      "source": [
        "**Main function to solve the problem**"
      ],
      "metadata": {
        "id": "517TH2DlM_27"
      }
    },
    {
      "cell_type": "code",
      "source": [
        "# # Given paragraph\n",
        "# paragraph = \"Alice is enrolled in Computer Science 101. Bob is enrolled in Physics 201. Charlie is enrolled in Mathematics 301. Computer Science 101 is taught by Professor Smith. Physics 201 is taught by Professor Johnson. Mathematics 301 is taught by Professor Brown.\"\n",
        "\n",
        "# # Build a graph using the manually defined triples\n",
        "# graph = build_graph(triples)\n",
        "\n",
        "# # Visualize the graph\n",
        "# save_graph_pyvis(graph)\n",
        "\n",
        "# Given paragraph\n",
        "paragraph = \"Alice is enrolled in CS 101. Bob is enrolled in Physics 201. Charlie is enrolled in Mathematics 301. CS 101 is taught by Professor Smith. Physics 201 is taught by Professor Johnson. Mathematics 301 is taught by Professor Brown.\"\n",
        "\n",
        "# Extract triples using NLTK\n",
        "# triples = triples_extraction(paragraph)\n",
        "\n",
        "# Build a graph using the manually defined triples\n",
        "graph = build_networkx_graph(triples)\n",
        "\n",
        "# Visualize the graph\n",
        "save_graph_pyvis(graph)"
      ],
      "metadata": {
        "id": "DfLpFcdPNBHu"
      },
      "execution_count": 7,
      "outputs": []
    }
  ]
}